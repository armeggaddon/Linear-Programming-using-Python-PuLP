{
 "cells": [
  {
   "cell_type": "markdown",
   "id": "72b63fc1-73ef-494a-b3bc-0c6c1187a749",
   "metadata": {},
   "source": [
    "## LINEAR PROGRAMMING USING PYTHON PuLP PACKAGE"
   ]
  },
  {
   "cell_type": "markdown",
   "id": "c3163b13-737b-4f21-bd36-6054d1ec3897",
   "metadata": {},
   "source": [
    "Thanks to [Libretext](https://math.libretexts.org/Bookshelves/Applied_Mathematics/Applied_Finite_Mathematics\_(Sekhon_and_Bloom)/04%3A_Linear_Programming_The_Simplex_Method/4.02%3A_Maximization_By_The_Simplex_Method) for the example problem\n",
    "\n",
    "**Problem Statement:**\n",
    "\n",
    " Shilpa has two part-time positions, designated as Job X and Job Y. She is committed to working no more than 12 hours weekly across\n",
    " both jobs. She has calculated that each hour of work at Job X necessitates 2 hours of prep time, while each hour at Job Y requires\n",
    " an hour of prep time. Additionally, Shilpa has set a limit of 16 hours for the total preparation time for both jobs.\n",
    " \n",
    " To optimize her earnings, how many hours per week should Shilpa allocate to working at Job X and Job Y, considering she earns \\\\$40 per\n",
    " hour at Job X and \\$30 per hour at Job Y?"
   ]
  },
  {
   "cell_type": "code",
   "execution_count": 1,
   "id": "226f53bd-f9f5-45ee-95b5-8f91af84ed14",
   "metadata": {},
   "outputs": [
    {
     "name": "stdout",
     "output_type": "stream",
     "text": [
      "Requirement already satisfied: pulp in c:\\users\\vaira\\appdata\\local\\programs\\python\\python310\\lib\\site-packages (2.9.0)\n"
     ]
    },
    {
     "name": "stderr",
     "output_type": "stream",
     "text": [
      "The system cannot find the path specified.\n",
      "WARNING: You are using pip version 21.2.3; however, version 24.3.1 is available.\n",
      "You should consider upgrading via the 'C:\\Users\\vaira\\AppData\\Local\\Programs\\Python\\Python310\\python.exe -m pip install --upgrade pip' command.\n"
     ]
    }
   ],
   "source": [
    "#install pulp package using pip\n",
    "!pip install pulp"
   ]
  },
  {
   "cell_type": "markdown",
   "id": "6b8234a4-4c1a-4c7d-ade4-3bc1437c817c",
   "metadata": {},
   "source": [
    "#### Identify the components of LP\n",
    "\n",
    "_Variables_, _Constraints_, _Restrictions_, _Objective_ _Function_\n",
    "\n",
    "##### Variables\n",
    "    * Lets consider the job X and Y as two variables x and y\n",
    "\n",
    "##### Constraints\n",
    "    * Since Shilpa is committed to work no more than 12 hours, we naturally arrive to the below equation\n",
    "    * x + y <=12\n",
    "\n",
    "    * She spends 2 hours of prep for job x and 1 hour prep for job y with max limit of 16 hours\n",
    "    * 2x + y <=16\n",
    "\n",
    "##### Restrictions\n",
    "    *  Note that the number of hours can be greater than or equal to 0, hence the below restriction/limits\n",
    "    * x>=0; y>=0\n",
    "\n",
    "##### Objective Function\n",
    "    * We need to maximize the earnings when she earns $40/hr at job x and $30/hr at job y\n",
    "    * 40x + 30y"
   ]
  },
  {
   "cell_type": "markdown",
   "id": "aeb97257-a463-449d-9fac-d465703dd8e5",
   "metadata": {},
   "source": [
    "**Lets start constructing the components**"
   ]
  },
  {
   "cell_type": "code",
   "execution_count": 10,
   "id": "ee8fa293-6711-49d4-b880-da856b52f448",
   "metadata": {},
   "outputs": [
    {
     "name": "stdout",
     "output_type": "stream",
     "text": [
      "MaximizeEarnings:\n",
      "MAXIMIZE\n",
      "40*x + 30*y + 0\n",
      "SUBJECT TO\n",
      "_C1: x + y <= 12\n",
      "\n",
      "_C2: 2 x + y <= 16\n",
      "\n",
      "VARIABLES\n",
      "0 <= x Integer\n",
      "0 <= y Integer\n",
      "\n"
     ]
    }
   ],
   "source": [
    "#import necessary contents from pulp\n",
    "from pulp.apis.coin_api import PULP_CBC_CMD\n",
    "from pulp import LpVariable, LpInteger, LpMaximize, LpProblem, LpStatus, value\n",
    "\n",
    "\n",
    "#Variable creation using PuLP, declare x and y variables and set the low bound to 0 based on the restrictions described above\n",
    "x = LpVariable(\"x\", lowBound=0, cat=LpInteger) #x>=0 we can set the category to Continuous as well\n",
    "y = LpVariable(\"y\", lowBound=0, cat=LpInteger)\n",
    "\n",
    "#Objective is to maximize the earnings hence LpMaximize\n",
    "prob = LpProblem(\"MaximizeEarnings\", LpMaximize)\n",
    "\n",
    "#Add the constraints(equations) based on the problem\n",
    "prob += x + y <=12\n",
    "prob += 2*x + y <=16\n",
    "\n",
    "#when we add an expression that will be set as objective\n",
    "prob += 40*x +30*y\n",
    "\n",
    "log_path=\"solver_log.txt\"\n",
    "#invoke the solver from pulp to solve the problem statement\n",
    "prob.solve(PULP_CBC_CMD(logPath=log_path))\n",
    "print(prob) "
   ]
  },
  {
   "cell_type": "code",
   "execution_count": 13,
   "id": "cac0ec78-0398-4719-85f4-2e5f78151897",
   "metadata": {},
   "outputs": [
    {
     "name": "stdout",
     "output_type": "stream",
     "text": [
      "Welcome to the CBC MILP Solver \n",
      "Version: 2.10.3 \n",
      "Build Date: Dec 15 2019 \n",
      "\n",
      "command line - C:\\Users\\vaira\\AppData\\Local\\Programs\\Python\\Python310\\lib\\site-packages\\pulp\\solverdir\\cbc\\win\\64\\cbc.exe C:\\Users\\vaira\\AppData\\Local\\Temp\\a13d7b87266440acaa635392525cfc86-pulp.mps -max -timeMode elapsed -branch -printingOptions all -solution C:\\Users\\vaira\\AppData\\Local\\Temp\\a13d7b87266440acaa635392525cfc86-pulp.sol (default strategy 1)\n",
      "At line 2 NAME          MODEL\n",
      "At line 3 ROWS\n",
      "At line 7 COLUMNS\n",
      "At line 18 RHS\n",
      "At line 21 BOUNDS\n",
      "At line 24 ENDATA\n",
      "Problem MODEL has 2 rows, 2 columns and 4 elements\n",
      "Coin0008I MODEL read with 0 errors\n",
      "Option for timeMode changed from cpu to elapsed\n",
      "Continuous objective value is 400 - 0.00 seconds\n",
      "Cgl0004I processed model has 2 rows, 2 columns (2 integer (0 of which binary)) and 4 elements\n",
      "Cutoff increment increased from 1e-05 to 9.9999\n",
      "Cbc0012I Integer solution of -400 found by DiveCoefficient after 0 iterations and 0 nodes (0.00 seconds)\n",
      "Cbc0001I Search completed - best objective -400, took 0 iterations and 0 nodes (0.00 seconds)\n",
      "Cbc0035I Maximum depth 0, 0 variables fixed on reduced cost\n",
      "Cuts at root node changed objective from -400 to -400\n",
      "Probing was tried 0 times and created 0 cuts of which 0 were active after adding rounds of cuts (0.000 seconds)\n",
      "Gomory was tried 0 times and created 0 cuts of which 0 were active after adding rounds of cuts (0.000 seconds)\n",
      "Knapsack was tried 0 times and created 0 cuts of which 0 were active after adding rounds of cuts (0.000 seconds)\n",
      "Clique was tried 0 times and created 0 cuts of which 0 were active after adding rounds of cuts (0.000 seconds)\n",
      "MixedIntegerRounding2 was tried 0 times and created 0 cuts of which 0 were active after adding rounds of cuts (0.000 seconds)\n",
      "FlowCover was tried 0 times and created 0 cuts of which 0 were active after adding rounds of cuts (0.000 seconds)\n",
      "TwoMirCuts was tried 0 times and created 0 cuts of which 0 were active after adding rounds of cuts (0.000 seconds)\n",
      "ZeroHalf was tried 0 times and created 0 cuts of which 0 were active after adding rounds of cuts (0.000 seconds)\n",
      "\n",
      "Result - Optimal solution found\n",
      "\n",
      "Objective value:                400.00000000\n",
      "Enumerated nodes:               0\n",
      "Total iterations:               0\n",
      "Time (CPU seconds):             0.00\n",
      "Time (Wallclock seconds):       0.00\n",
      "\n",
      "Option for printingOptions changed from normal to all\n",
      "Total time (CPU seconds):       0.00   (Wallclock seconds):       0.01\n",
      "\n",
      "\n"
     ]
    }
   ],
   "source": [
    "#Solver execution log\n",
    "with open(log_path,\"r\") as file:\n",
    "    solver_log = file.read()\n",
    "print(solver_log)"
   ]
  },
  {
   "cell_type": "code",
   "execution_count": 12,
   "id": "23ed9978-255b-4ddc-8e5a-af32594eb2c7",
   "metadata": {},
   "outputs": [
    {
     "name": "stdout",
     "output_type": "stream",
     "text": [
      "Hours at Job A: 4.0\n",
      "Hours at Job B: 8.0\n",
      "Status: Optimal\n"
     ]
    }
   ],
   "source": [
    "# Get the values of the variables  \n",
    "x_value = value(x)  \n",
    "y_value = value(y)  \n",
    " \n",
    "# Print the results  \n",
    "print(f\"Hours at Job A: {x_value}\")  \n",
    "print(f\"Hours at Job B: {y_value}\")  \n",
    "print(f\"Status: {LpStatus[prob.status]}\")"
   ]
  },
  {
   "cell_type": "code",
   "execution_count": null,
   "id": "e353296f-b7b1-4d30-b0db-b3dd28f2fa98",
   "metadata": {},
   "outputs": [],
   "source": []
  }
 ],
 "metadata": {
  "kernelspec": {
   "display_name": "Python 3 (ipykernel)",
   "language": "python",
   "name": "python3"
  },
  "language_info": {
   "codemirror_mode": {
    "name": "ipython",
    "version": 3
   },
   "file_extension": ".py",
   "mimetype": "text/x-python",
   "name": "python",
   "nbconvert_exporter": "python",
   "pygments_lexer": "ipython3",
   "version": "3.10.0"
  }
 },
 "nbformat": 4,
 "nbformat_minor": 5
}
